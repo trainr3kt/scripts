{
  "nbformat": 4,
  "nbformat_minor": 0,
  "metadata": {
    "colab": {
      "name": "Ghunt.ipynb",
      "provenance": [],
      "authorship_tag": "ABX9TyPVZxgUF7YN9HejdlvCvdaU",
      "include_colab_link": true
    },
    "kernelspec": {
      "name": "python3",
      "display_name": "Python 3"
    }
  },
  "cells": [
    {
      "cell_type": "markdown",
      "metadata": {
        "id": "view-in-github",
        "colab_type": "text"
      },
      "source": [
        "<a href=\"https://colab.research.google.com/github/trainr3kt/scripts/blob/master/Ghunt.ipynb\" target=\"_parent\"><img src=\"https://colab.research.google.com/assets/colab-badge.svg\" alt=\"Open In Colab\"/></a>"
      ]
    },
    {
      "cell_type": "code",
      "metadata": {
        "id": "P3ze6bwy5Lu-"
      },
      "source": [
        "# Clone\n",
        "!git clone https://github.com/mxrch/GHunt.git"
      ],
      "execution_count": null,
      "outputs": []
    },
    {
      "cell_type": "code",
      "metadata": {
        "id": "EqlC1I9H5X9w"
      },
      "source": [
        "# Install Requirements\n",
        "!python -m pip install -r /content/GHunt/requirements.txt"
      ],
      "execution_count": null,
      "outputs": []
    },
    {
      "cell_type": "code",
      "metadata": {
        "id": "5xAHPmYEngi-"
      },
      "source": [
        "!pip install selenium\n",
        "!apt-get update \n",
        "!apt install chromium-chromedriver\n",
        "!cp /usr/lib/chromium-browser/chromedriver /content/.\n",
        "\n",
        "## Use a tool like https://chrome.google.com/webstore/detail/editthiscookie/fngmhnnpilhplaeedifhccceomclgfbg?hl=en to grab the needed cookies\n",
        "\n",
        "!python /content/GHunt/check_and_gen.py"
      ],
      "execution_count": null,
      "outputs": []
    },
    {
      "cell_type": "code",
      "metadata": {
        "id": "Fe0OTwsz0Y71"
      },
      "source": [
        "!python /content/GHunt/hunt.py anonymous@gmail.com"
      ],
      "execution_count": null,
      "outputs": []
    }
  ]
}